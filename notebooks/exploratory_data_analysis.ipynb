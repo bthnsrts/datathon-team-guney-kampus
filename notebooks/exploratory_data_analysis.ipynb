{
 "cells": [
  {
   "cell_type": "code",
   "execution_count": null,
   "metadata": {},
   "outputs": [],
   "source": [
    "import pandas as pd"
   ]
  },
  {
   "cell_type": "markdown",
   "metadata": {},
   "source": [
    "Set working directory to repo root"
   ]
  },
  {
   "cell_type": "code",
   "execution_count": 2,
   "metadata": {},
   "outputs": [],
   "source": [
    "from utils import get_repo_root\n",
    "repo_root = get_repo_root()"
   ]
  },
  {
   "cell_type": "code",
   "execution_count": 7,
   "metadata": {},
   "outputs": [
    {
     "data": {
      "text/plain": [
       "'/Users/batuhansaritas/Desktop/repositories/ing-datathon-team-guney-kampus'"
      ]
     },
     "execution_count": 7,
     "metadata": {},
     "output_type": "execute_result"
    }
   ],
   "source": [
    "str(repo_root)"
   ]
  },
  {
   "cell_type": "code",
   "execution_count": null,
   "metadata": {},
   "outputs": [],
   "source": [
    "cust_hist = pd.read_csv(str(repo_root) + '/data/customer_history.csv')\n",
    "cust = pd.read_csv(str(repo_root) + '/data/customers.csv')\n",
    "ref_test = pd.read_csv(str(repo_root) + '/data/referance_data_test.csv')\n",
    "ref = pd.read_csv(str(repo_root) + '/data/referance_data.csv')\n",
    "sample_sub = pd.read_csv(str(repo_root) + '/data/sample_submission.csv')"
   ]
  },
  {
   "cell_type": "code",
   "execution_count": 12,
   "metadata": {},
   "outputs": [
    {
     "data": {
      "text/html": [
       "<div>\n",
       "<style scoped>\n",
       "    .dataframe tbody tr th:only-of-type {\n",
       "        vertical-align: middle;\n",
       "    }\n",
       "\n",
       "    .dataframe tbody tr th {\n",
       "        vertical-align: top;\n",
       "    }\n",
       "\n",
       "    .dataframe thead th {\n",
       "        text-align: right;\n",
       "    }\n",
       "</style>\n",
       "<table border=\"1\" class=\"dataframe\">\n",
       "  <thead>\n",
       "    <tr style=\"text-align: right;\">\n",
       "      <th></th>\n",
       "      <th>cust_id</th>\n",
       "      <th>date</th>\n",
       "      <th>mobile_eft_all_cnt</th>\n",
       "      <th>active_product_category_nbr</th>\n",
       "      <th>mobile_eft_all_amt</th>\n",
       "      <th>cc_transaction_all_amt</th>\n",
       "      <th>cc_transaction_all_cnt</th>\n",
       "    </tr>\n",
       "  </thead>\n",
       "  <tbody>\n",
       "    <tr>\n",
       "      <th>0</th>\n",
       "      <td>0</td>\n",
       "      <td>2016-01-01</td>\n",
       "      <td>1.0</td>\n",
       "      <td>2</td>\n",
       "      <td>151.20</td>\n",
       "      <td>NaN</td>\n",
       "      <td>NaN</td>\n",
       "    </tr>\n",
       "    <tr>\n",
       "      <th>1</th>\n",
       "      <td>0</td>\n",
       "      <td>2016-02-01</td>\n",
       "      <td>1.0</td>\n",
       "      <td>2</td>\n",
       "      <td>178.70</td>\n",
       "      <td>NaN</td>\n",
       "      <td>NaN</td>\n",
       "    </tr>\n",
       "    <tr>\n",
       "      <th>2</th>\n",
       "      <td>0</td>\n",
       "      <td>2016-03-01</td>\n",
       "      <td>2.0</td>\n",
       "      <td>2</td>\n",
       "      <td>37.38</td>\n",
       "      <td>NaN</td>\n",
       "      <td>NaN</td>\n",
       "    </tr>\n",
       "    <tr>\n",
       "      <th>3</th>\n",
       "      <td>0</td>\n",
       "      <td>2016-04-01</td>\n",
       "      <td>4.0</td>\n",
       "      <td>2</td>\n",
       "      <td>100.90</td>\n",
       "      <td>NaN</td>\n",
       "      <td>NaN</td>\n",
       "    </tr>\n",
       "    <tr>\n",
       "      <th>4</th>\n",
       "      <td>0</td>\n",
       "      <td>2016-05-01</td>\n",
       "      <td>3.0</td>\n",
       "      <td>3</td>\n",
       "      <td>132.28</td>\n",
       "      <td>NaN</td>\n",
       "      <td>NaN</td>\n",
       "    </tr>\n",
       "    <tr>\n",
       "      <th>5</th>\n",
       "      <td>0</td>\n",
       "      <td>2016-06-01</td>\n",
       "      <td>1.0</td>\n",
       "      <td>2</td>\n",
       "      <td>79.86</td>\n",
       "      <td>NaN</td>\n",
       "      <td>NaN</td>\n",
       "    </tr>\n",
       "    <tr>\n",
       "      <th>6</th>\n",
       "      <td>0</td>\n",
       "      <td>2016-07-01</td>\n",
       "      <td>1.0</td>\n",
       "      <td>2</td>\n",
       "      <td>121.27</td>\n",
       "      <td>NaN</td>\n",
       "      <td>NaN</td>\n",
       "    </tr>\n",
       "    <tr>\n",
       "      <th>7</th>\n",
       "      <td>0</td>\n",
       "      <td>2016-08-01</td>\n",
       "      <td>4.0</td>\n",
       "      <td>2</td>\n",
       "      <td>31.54</td>\n",
       "      <td>NaN</td>\n",
       "      <td>NaN</td>\n",
       "    </tr>\n",
       "    <tr>\n",
       "      <th>8</th>\n",
       "      <td>0</td>\n",
       "      <td>2016-09-01</td>\n",
       "      <td>4.0</td>\n",
       "      <td>2</td>\n",
       "      <td>93.80</td>\n",
       "      <td>NaN</td>\n",
       "      <td>NaN</td>\n",
       "    </tr>\n",
       "    <tr>\n",
       "      <th>9</th>\n",
       "      <td>0</td>\n",
       "      <td>2016-10-01</td>\n",
       "      <td>5.0</td>\n",
       "      <td>2</td>\n",
       "      <td>52.01</td>\n",
       "      <td>NaN</td>\n",
       "      <td>NaN</td>\n",
       "    </tr>\n",
       "  </tbody>\n",
       "</table>\n",
       "</div>"
      ],
      "text/plain": [
       "   cust_id        date  mobile_eft_all_cnt  active_product_category_nbr  \\\n",
       "0        0  2016-01-01                 1.0                            2   \n",
       "1        0  2016-02-01                 1.0                            2   \n",
       "2        0  2016-03-01                 2.0                            2   \n",
       "3        0  2016-04-01                 4.0                            2   \n",
       "4        0  2016-05-01                 3.0                            3   \n",
       "5        0  2016-06-01                 1.0                            2   \n",
       "6        0  2016-07-01                 1.0                            2   \n",
       "7        0  2016-08-01                 4.0                            2   \n",
       "8        0  2016-09-01                 4.0                            2   \n",
       "9        0  2016-10-01                 5.0                            2   \n",
       "\n",
       "   mobile_eft_all_amt  cc_transaction_all_amt  cc_transaction_all_cnt  \n",
       "0              151.20                     NaN                     NaN  \n",
       "1              178.70                     NaN                     NaN  \n",
       "2               37.38                     NaN                     NaN  \n",
       "3              100.90                     NaN                     NaN  \n",
       "4              132.28                     NaN                     NaN  \n",
       "5               79.86                     NaN                     NaN  \n",
       "6              121.27                     NaN                     NaN  \n",
       "7               31.54                     NaN                     NaN  \n",
       "8               93.80                     NaN                     NaN  \n",
       "9               52.01                     NaN                     NaN  "
      ]
     },
     "execution_count": 12,
     "metadata": {},
     "output_type": "execute_result"
    }
   ],
   "source": [
    "cust_hist.head(10)"
   ]
  },
  {
   "cell_type": "code",
   "execution_count": null,
   "metadata": {},
   "outputs": [
    {
     "data": {
      "image/png": "[encoded data removed]",
      "text/plain": [
       "<Figure size 1200x600 with 1 Axes>"
      ]
     },
     "metadata": {},
     "output_type": "display_data"
    }
   ],
   "source": [
    "import matplotlib.pyplot as plt\n",
    "\n",
    "# Convert date to datetime format\n",
    "cust_hist['date'] = pd.to_datetime(cust_hist['date'])\n",
    "\n",
    "# Group by date and count unique customers\n",
    "customers_per_date = cust_hist.groupby('date')['cust_id'].nunique().reset_index()\n",
    "\n",
    "# Create the plot\n",
    "plt.figure(figsize=(12, 6))\n",
    "plt.plot(customers_per_date['date'], customers_per_date['cust_id'])\n",
    "plt.title('Number of Unique Customers w/ Transaction Over Time')\n",
    "plt.xlabel('Date')\n",
    "plt.ylabel('Number of Customers')\n",
    "plt.grid(True)\n",
    "plt.xticks(rotation=45)\n",
    "plt.tight_layout()\n",
    "plt.show()"
   ]
  },
  {
   "cell_type": "code",
   "execution_count": null,
   "metadata": {},
   "outputs": [],
   "source": []
  },
  {
   "cell_type": "code",
   "execution_count": 22,
   "metadata": {},
   "outputs": [
    {
     "data": {
      "text/plain": [
       "ref_date\n",
       "2019-01-01    7291\n",
       "2019-02-01    7074\n",
       "2019-03-01    7210\n",
       "2019-04-01    6963\n",
       "2019-05-01    7211\n",
       "2019-06-01    7257\n",
       "dtype: int64"
      ]
     },
     "execution_count": 22,
     "metadata": {},
     "output_type": "execute_result"
    }
   ],
   "source": [
    "ref_test.groupby('ref_date').size()"
   ]
  }
 ],
 "metadata": {
  "kernelspec": {
   "display_name": "venv",
   "language": "python",
   "name": "python3"
  },
  "language_info": {
   "codemirror_mode": {
    "name": "ipython",
    "version": 3
   },
   "file_extension": ".py",
   "mimetype": "text/x-python",
   "name": "python",
   "nbconvert_exporter": "python",
   "pygments_lexer": "ipython3",
   "version": "3.10.11"
  }
 },
 "nbformat": 4,
 "nbformat_minor": 2
}
